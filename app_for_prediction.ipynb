{
  "nbformat": 4,
  "nbformat_minor": 0,
  "metadata": {
    "colab": {
      "name": "stage1.ipynb",
      "provenance": [],
      "collapsed_sections": [],
      "authorship_tag": "ABX9TyPs0p4aDyttAMn/auloFDax",
      "include_colab_link": true
    },
    "kernelspec": {
      "name": "python3",
      "display_name": "Python 3"
    },
    "language_info": {
      "name": "python"
    }
  },
  "cells": [
    {
      "cell_type": "markdown",
      "metadata": {
        "id": "view-in-github",
        "colab_type": "text"
      },
      "source": [
        "<a href=\"https://colab.research.google.com/github/sairamadithya/cardiovascular_risk_prediction/blob/main/app_for_prediction.ipynb\" target=\"_parent\"><img src=\"https://colab.research.google.com/assets/colab-badge.svg\" alt=\"Open In Colab\"/></a>"
      ]
    },
    {
      "cell_type": "markdown",
      "metadata": {
        "id": "gAbxkNTvuAQK"
      },
      "source": [
        "# IMPORTING ESSENTIAL LIBRARIES"
      ]
    },
    {
      "cell_type": "code",
      "metadata": {
        "id": "CIhKG-3zeayV"
      },
      "source": [
        "import numpy as np \n",
        "import pandas as pd \n",
        "import matplotlib.pyplot as plt \n",
        "import sklearn \n",
        "import keras\n",
        "from sklearn.model_selection import train_test_split\n",
        "import tensorflow as tf\n",
        "from tensorflow.keras import Sequential\n",
        "from tensorflow.keras.layers import Dense, Dropout\n",
        "\n"
      ],
      "execution_count": null,
      "outputs": []
    },
    {
      "cell_type": "markdown",
      "metadata": {
        "id": "bH4XqFCuk9S1"
      },
      "source": [
        "# COLLECTING THE DATASET\n",
        "this dataset consists of information from around 70000 patients.\n",
        "source- kaggle datasets\n",
        "link- https://www.kaggle.com/sulianova/cardiovascular-disease-dataset\n",
        "this is available as a CSV (comma seperated values)\n",
        "   \n",
        "The pandas library is used to convert the comma seperated values into distinguised table type data  \n",
        "\n",
        "pd.set_option('display.max_columns', None) is used to expand along the columns and\n",
        "pd.set_option('display.max_rows', None) is used to expand along the rows"
      ]
    },
    {
      "cell_type": "markdown",
      "metadata": {
        "id": "8UDs8FsLwIxg"
      },
      "source": [
        "follow this image to upload the dataset\n",
        "![1.jpeg](data:image/jpeg;base64,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)"
      ]
    },
    {
      "cell_type": "code",
      "metadata": {
        "id": "kKKTecryec1i",
        "colab": {
          "base_uri": "https://localhost:8080/",
          "height": 204
        },
        "outputId": "384379e9-6e33-4f08-f2e0-8aa2113bcb22"
      },
      "source": [
        "data= pd.read_csv('cardio_train.csv',sep=\";\")\n",
        "pd.set_option('display.max_columns', None)\n",
        "pd.set_option('display.max_rows', None)\n",
        "pd.set_option('display.float_format', lambda x :'% 3f' % x)\n",
        "data.head()"
      ],
      "execution_count": null,
      "outputs": [
        {
          "output_type": "execute_result",
          "data": {
            "text/html": [
              "<div>\n",
              "<style scoped>\n",
              "    .dataframe tbody tr th:only-of-type {\n",
              "        vertical-align: middle;\n",
              "    }\n",
              "\n",
              "    .dataframe tbody tr th {\n",
              "        vertical-align: top;\n",
              "    }\n",
              "\n",
              "    .dataframe thead th {\n",
              "        text-align: right;\n",
              "    }\n",
              "</style>\n",
              "<table border=\"1\" class=\"dataframe\">\n",
              "  <thead>\n",
              "    <tr style=\"text-align: right;\">\n",
              "      <th></th>\n",
              "      <th>id</th>\n",
              "      <th>age</th>\n",
              "      <th>gender</th>\n",
              "      <th>height</th>\n",
              "      <th>weight</th>\n",
              "      <th>ap_hi</th>\n",
              "      <th>ap_lo</th>\n",
              "      <th>cholesterol</th>\n",
              "      <th>gluc</th>\n",
              "      <th>smoke</th>\n",
              "      <th>alco</th>\n",
              "      <th>active</th>\n",
              "      <th>cardio</th>\n",
              "    </tr>\n",
              "  </thead>\n",
              "  <tbody>\n",
              "    <tr>\n",
              "      <th>0</th>\n",
              "      <td>0</td>\n",
              "      <td>18393</td>\n",
              "      <td>2</td>\n",
              "      <td>168</td>\n",
              "      <td>62.000000</td>\n",
              "      <td>110</td>\n",
              "      <td>80</td>\n",
              "      <td>1</td>\n",
              "      <td>1</td>\n",
              "      <td>0</td>\n",
              "      <td>0</td>\n",
              "      <td>1</td>\n",
              "      <td>0</td>\n",
              "    </tr>\n",
              "    <tr>\n",
              "      <th>1</th>\n",
              "      <td>1</td>\n",
              "      <td>20228</td>\n",
              "      <td>1</td>\n",
              "      <td>156</td>\n",
              "      <td>85.000000</td>\n",
              "      <td>140</td>\n",
              "      <td>90</td>\n",
              "      <td>3</td>\n",
              "      <td>1</td>\n",
              "      <td>0</td>\n",
              "      <td>0</td>\n",
              "      <td>1</td>\n",
              "      <td>1</td>\n",
              "    </tr>\n",
              "    <tr>\n",
              "      <th>2</th>\n",
              "      <td>2</td>\n",
              "      <td>18857</td>\n",
              "      <td>1</td>\n",
              "      <td>165</td>\n",
              "      <td>64.000000</td>\n",
              "      <td>130</td>\n",
              "      <td>70</td>\n",
              "      <td>3</td>\n",
              "      <td>1</td>\n",
              "      <td>0</td>\n",
              "      <td>0</td>\n",
              "      <td>0</td>\n",
              "      <td>1</td>\n",
              "    </tr>\n",
              "    <tr>\n",
              "      <th>3</th>\n",
              "      <td>3</td>\n",
              "      <td>17623</td>\n",
              "      <td>2</td>\n",
              "      <td>169</td>\n",
              "      <td>82.000000</td>\n",
              "      <td>150</td>\n",
              "      <td>100</td>\n",
              "      <td>1</td>\n",
              "      <td>1</td>\n",
              "      <td>0</td>\n",
              "      <td>0</td>\n",
              "      <td>1</td>\n",
              "      <td>1</td>\n",
              "    </tr>\n",
              "    <tr>\n",
              "      <th>4</th>\n",
              "      <td>4</td>\n",
              "      <td>17474</td>\n",
              "      <td>1</td>\n",
              "      <td>156</td>\n",
              "      <td>56.000000</td>\n",
              "      <td>100</td>\n",
              "      <td>60</td>\n",
              "      <td>1</td>\n",
              "      <td>1</td>\n",
              "      <td>0</td>\n",
              "      <td>0</td>\n",
              "      <td>0</td>\n",
              "      <td>0</td>\n",
              "    </tr>\n",
              "  </tbody>\n",
              "</table>\n",
              "</div>"
            ],
            "text/plain": [
              "   id    age  gender  height     weight  ap_hi  ap_lo  cholesterol  gluc  \\\n",
              "0   0  18393       2     168  62.000000    110     80            1     1   \n",
              "1   1  20228       1     156  85.000000    140     90            3     1   \n",
              "2   2  18857       1     165  64.000000    130     70            3     1   \n",
              "3   3  17623       2     169  82.000000    150    100            1     1   \n",
              "4   4  17474       1     156  56.000000    100     60            1     1   \n",
              "\n",
              "   smoke  alco  active  cardio  \n",
              "0      0     0       1       0  \n",
              "1      0     0       1       1  \n",
              "2      0     0       0       1  \n",
              "3      0     0       1       1  \n",
              "4      0     0       0       0  "
            ]
          },
          "metadata": {
            "tags": []
          },
          "execution_count": 2
        }
      ]
    },
    {
      "cell_type": "markdown",
      "metadata": {
        "id": "2BXBxQVzrGqE"
      },
      "source": [
        "THE FOLLOWING CHANGES ARE TO BE MADE BEFORE USING THE DATA\n",
        "\n",
        "1.the id column of the data doesn't affect the output. hence we can drop that\n",
        "\n",
        "2.the age is in days. hence we convert to years by dividing by 365\n",
        "\n",
        "3. we calculate BMI from height and weight so as to reduce the data entry. the following formula is used\n",
        "\n",
        "BMI= height/(weight)2\n",
        "\n",
        "4. we drop the height and weight column since they are replaced by the BMI column.\n",
        "\n",
        "5. the cardio column is the output hence we remove it\n",
        "\n",
        "we have to convert the new column into integer datatype after each manipulation"
      ]
    },
    {
      "cell_type": "code",
      "metadata": {
        "colab": {
          "base_uri": "https://localhost:8080/",
          "height": 204
        },
        "id": "fVbY-LrNeeks",
        "outputId": "c4806ec3-1d37-4d1e-a0f3-330a9feae730"
      },
      "source": [
        "data= data.drop('id', axis=1)\n",
        "data['age']= data['age']/365\n",
        "data['age']= data['age'].astype(int)\n",
        "data['BMI'] = data['weight']/(np.power(data['height']/100, 2))\n",
        "data['BMI'] = data['BMI'].astype(int)\n",
        "data['Cardio_disease'] = data['cardio']\n",
        "data = data.drop(columns = ['height','cardio','weight'])\n",
        "data.head()"
      ],
      "execution_count": null,
      "outputs": [
        {
          "output_type": "execute_result",
          "data": {
            "text/html": [
              "<div>\n",
              "<style scoped>\n",
              "    .dataframe tbody tr th:only-of-type {\n",
              "        vertical-align: middle;\n",
              "    }\n",
              "\n",
              "    .dataframe tbody tr th {\n",
              "        vertical-align: top;\n",
              "    }\n",
              "\n",
              "    .dataframe thead th {\n",
              "        text-align: right;\n",
              "    }\n",
              "</style>\n",
              "<table border=\"1\" class=\"dataframe\">\n",
              "  <thead>\n",
              "    <tr style=\"text-align: right;\">\n",
              "      <th></th>\n",
              "      <th>age</th>\n",
              "      <th>gender</th>\n",
              "      <th>ap_hi</th>\n",
              "      <th>ap_lo</th>\n",
              "      <th>cholesterol</th>\n",
              "      <th>gluc</th>\n",
              "      <th>smoke</th>\n",
              "      <th>alco</th>\n",
              "      <th>active</th>\n",
              "      <th>BMI</th>\n",
              "      <th>Cardio_disease</th>\n",
              "    </tr>\n",
              "  </thead>\n",
              "  <tbody>\n",
              "    <tr>\n",
              "      <th>0</th>\n",
              "      <td>50</td>\n",
              "      <td>2</td>\n",
              "      <td>110</td>\n",
              "      <td>80</td>\n",
              "      <td>1</td>\n",
              "      <td>1</td>\n",
              "      <td>0</td>\n",
              "      <td>0</td>\n",
              "      <td>1</td>\n",
              "      <td>21</td>\n",
              "      <td>0</td>\n",
              "    </tr>\n",
              "    <tr>\n",
              "      <th>1</th>\n",
              "      <td>55</td>\n",
              "      <td>1</td>\n",
              "      <td>140</td>\n",
              "      <td>90</td>\n",
              "      <td>3</td>\n",
              "      <td>1</td>\n",
              "      <td>0</td>\n",
              "      <td>0</td>\n",
              "      <td>1</td>\n",
              "      <td>34</td>\n",
              "      <td>1</td>\n",
              "    </tr>\n",
              "    <tr>\n",
              "      <th>2</th>\n",
              "      <td>51</td>\n",
              "      <td>1</td>\n",
              "      <td>130</td>\n",
              "      <td>70</td>\n",
              "      <td>3</td>\n",
              "      <td>1</td>\n",
              "      <td>0</td>\n",
              "      <td>0</td>\n",
              "      <td>0</td>\n",
              "      <td>23</td>\n",
              "      <td>1</td>\n",
              "    </tr>\n",
              "    <tr>\n",
              "      <th>3</th>\n",
              "      <td>48</td>\n",
              "      <td>2</td>\n",
              "      <td>150</td>\n",
              "      <td>100</td>\n",
              "      <td>1</td>\n",
              "      <td>1</td>\n",
              "      <td>0</td>\n",
              "      <td>0</td>\n",
              "      <td>1</td>\n",
              "      <td>28</td>\n",
              "      <td>1</td>\n",
              "    </tr>\n",
              "    <tr>\n",
              "      <th>4</th>\n",
              "      <td>47</td>\n",
              "      <td>1</td>\n",
              "      <td>100</td>\n",
              "      <td>60</td>\n",
              "      <td>1</td>\n",
              "      <td>1</td>\n",
              "      <td>0</td>\n",
              "      <td>0</td>\n",
              "      <td>0</td>\n",
              "      <td>23</td>\n",
              "      <td>0</td>\n",
              "    </tr>\n",
              "  </tbody>\n",
              "</table>\n",
              "</div>"
            ],
            "text/plain": [
              "   age  gender  ap_hi  ap_lo  cholesterol  gluc  smoke  alco  active  BMI  \\\n",
              "0   50       2    110     80            1     1      0     0       1   21   \n",
              "1   55       1    140     90            3     1      0     0       1   34   \n",
              "2   51       1    130     70            3     1      0     0       0   23   \n",
              "3   48       2    150    100            1     1      0     0       1   28   \n",
              "4   47       1    100     60            1     1      0     0       0   23   \n",
              "\n",
              "   Cardio_disease  \n",
              "0               0  \n",
              "1               1  \n",
              "2               1  \n",
              "3               1  \n",
              "4               0  "
            ]
          },
          "metadata": {
            "tags": []
          },
          "execution_count": 3
        }
      ]
    },
    {
      "cell_type": "markdown",
      "metadata": {
        "id": "CVpBYg0dtbS-"
      },
      "source": [
        "#STANDARDISATION OF DATA\n",
        "\n",
        "except few columns the rest are in the range of 0,1,2,3. some columns have high values when compared to others. Hence to maintain a degree of uniformity of data, standardisation is used.\n",
        "\n",
        "the process of stanardisation is done to reduce the range of the data. basically scaling them to a narrow range.\n",
        "\n",
        "it is done by the following manipulation to all the entries\n",
        "standardised= data- (mean of data)/ standard deviation of data\n",
        "\n",
        "the BMI, age, ap_hi and ap_lo are the ones to be standardised\n",
        "the following image shows the difference before and after standardisation\n"
      ]
    },
    {
      "cell_type": "code",
      "metadata": {
        "id": "if6KIrusetP2",
        "colab": {
          "base_uri": "https://localhost:8080/",
          "height": 204
        },
        "outputId": "17747270-25cd-4505-de2e-ebd1fd6892bf"
      },
      "source": [
        "std_list = [\"age\" ,\"BMI\",\"ap_hi\", \"ap_lo\"] \n",
        "\n",
        "def standartization(x):\n",
        "    x_std = x.copy(deep=True)\n",
        "    for column in std_list:\n",
        "        x_std[column] = (x_std[column] - x_std[column].mean()) / x_std[column].std() \n",
        "    return x_std\n",
        "\n",
        "data= standartization(data)\n",
        "data.head()"
      ],
      "execution_count": null,
      "outputs": [
        {
          "output_type": "execute_result",
          "data": {
            "text/html": [
              "<div>\n",
              "<style scoped>\n",
              "    .dataframe tbody tr th:only-of-type {\n",
              "        vertical-align: middle;\n",
              "    }\n",
              "\n",
              "    .dataframe tbody tr th {\n",
              "        vertical-align: top;\n",
              "    }\n",
              "\n",
              "    .dataframe thead th {\n",
              "        text-align: right;\n",
              "    }\n",
              "</style>\n",
              "<table border=\"1\" class=\"dataframe\">\n",
              "  <thead>\n",
              "    <tr style=\"text-align: right;\">\n",
              "      <th></th>\n",
              "      <th>age</th>\n",
              "      <th>gender</th>\n",
              "      <th>ap_hi</th>\n",
              "      <th>ap_lo</th>\n",
              "      <th>cholesterol</th>\n",
              "      <th>gluc</th>\n",
              "      <th>smoke</th>\n",
              "      <th>alco</th>\n",
              "      <th>active</th>\n",
              "      <th>BMI</th>\n",
              "      <th>Cardio_disease</th>\n",
              "    </tr>\n",
              "  </thead>\n",
              "  <tbody>\n",
              "    <tr>\n",
              "      <th>0</th>\n",
              "      <td>-0.419797</td>\n",
              "      <td>2</td>\n",
              "      <td>-0.122181</td>\n",
              "      <td>-0.088238</td>\n",
              "      <td>1</td>\n",
              "      <td>1</td>\n",
              "      <td>0</td>\n",
              "      <td>0</td>\n",
              "      <td>1</td>\n",
              "      <td>-0.994006</td>\n",
              "      <td>0</td>\n",
              "    </tr>\n",
              "    <tr>\n",
              "      <th>1</th>\n",
              "      <td>0.319108</td>\n",
              "      <td>1</td>\n",
              "      <td>0.072610</td>\n",
              "      <td>-0.035180</td>\n",
              "      <td>3</td>\n",
              "      <td>1</td>\n",
              "      <td>0</td>\n",
              "      <td>0</td>\n",
              "      <td>1</td>\n",
              "      <td>1.136672</td>\n",
              "      <td>1</td>\n",
              "    </tr>\n",
              "    <tr>\n",
              "      <th>2</th>\n",
              "      <td>-0.272016</td>\n",
              "      <td>1</td>\n",
              "      <td>0.007679</td>\n",
              "      <td>-0.141296</td>\n",
              "      <td>3</td>\n",
              "      <td>1</td>\n",
              "      <td>0</td>\n",
              "      <td>0</td>\n",
              "      <td>0</td>\n",
              "      <td>-0.666209</td>\n",
              "      <td>1</td>\n",
              "    </tr>\n",
              "    <tr>\n",
              "      <th>3</th>\n",
              "      <td>-0.715359</td>\n",
              "      <td>2</td>\n",
              "      <td>0.137540</td>\n",
              "      <td>0.017878</td>\n",
              "      <td>1</td>\n",
              "      <td>1</td>\n",
              "      <td>0</td>\n",
              "      <td>0</td>\n",
              "      <td>1</td>\n",
              "      <td>0.153282</td>\n",
              "      <td>1</td>\n",
              "    </tr>\n",
              "    <tr>\n",
              "      <th>4</th>\n",
              "      <td>-0.863140</td>\n",
              "      <td>1</td>\n",
              "      <td>-0.187111</td>\n",
              "      <td>-0.194354</td>\n",
              "      <td>1</td>\n",
              "      <td>1</td>\n",
              "      <td>0</td>\n",
              "      <td>0</td>\n",
              "      <td>0</td>\n",
              "      <td>-0.666209</td>\n",
              "      <td>0</td>\n",
              "    </tr>\n",
              "  </tbody>\n",
              "</table>\n",
              "</div>"
            ],
            "text/plain": [
              "        age  gender     ap_hi     ap_lo  cholesterol  gluc  smoke  alco  \\\n",
              "0 -0.419797       2 -0.122181 -0.088238            1     1      0     0   \n",
              "1  0.319108       1  0.072610 -0.035180            3     1      0     0   \n",
              "2 -0.272016       1  0.007679 -0.141296            3     1      0     0   \n",
              "3 -0.715359       2  0.137540  0.017878            1     1      0     0   \n",
              "4 -0.863140       1 -0.187111 -0.194354            1     1      0     0   \n",
              "\n",
              "   active       BMI  Cardio_disease  \n",
              "0       1 -0.994006               0  \n",
              "1       1  1.136672               1  \n",
              "2       0 -0.666209               1  \n",
              "3       1  0.153282               1  \n",
              "4       0 -0.666209               0  "
            ]
          },
          "metadata": {
            "tags": []
          },
          "execution_count": 4
        }
      ]
    },
    {
      "cell_type": "markdown",
      "metadata": {
        "id": "-Z-DAjiUxaPP"
      },
      "source": [
        "BEFORE STANDARDISATION\n",
        "![Capture.PNG](data:image/png;base64,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)"
      ]
    },
    {
      "cell_type": "markdown",
      "metadata": {
        "id": "B_tawUSUxg5r"
      },
      "source": [
        "AFTER STANDARDISATION\n",
        "![Capture1.PNG](data:image/png;base64,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)"
      ]
    },
    {
      "cell_type": "markdown",
      "metadata": {
        "id": "0Y_hqbEdxUAN"
      },
      "source": [
        "# DATA SPLITTING\n",
        "\n",
        "the X is considered as input and Y is considered as output.\n",
        "\n",
        "the iloc function is used to select the ranges of columns and rows. the syntax is iloc[row,column] the : indicates all\n",
        "\n",
        "X= all rows, all columns except the last\n",
        "\n",
        "Y= all rows, only the last column"
      ]
    },
    {
      "cell_type": "code",
      "metadata": {
        "id": "2TAcJb5iewaS"
      },
      "source": [
        "X = data.iloc[:,:-1]\n",
        "y = data.iloc[: ,-1]\n"
      ],
      "execution_count": null,
      "outputs": []
    },
    {
      "cell_type": "markdown",
      "metadata": {
        "id": "JFcEDN3dyn3K"
      },
      "source": [
        "the train_test_split function from the sklearn module is being used here for splitting the data. \n",
        "\n",
        "the standard splitting ratio is 75:25 meaning 75% data for training and 25% data for testing. we can also shuffle the data if needed"
      ]
    },
    {
      "cell_type": "code",
      "metadata": {
        "colab": {
          "base_uri": "https://localhost:8080/"
        },
        "id": "HJDW30Fhe3DV",
        "outputId": "6339c7a1-6be4-4a97-8e7b-8b920c803803"
      },
      "source": [
        "from sklearn.model_selection import train_test_split\n",
        "\n",
        "X_train,X_test ,y_train, y_test = train_test_split(X,y,\n",
        "                                                   test_size=0.05,\n",
        "                                                   random_state=0,\n",
        "                                                  shuffle = True,\n",
        "                                                  stratify = y)\n",
        "\n",
        "print('training data shape is :{}.'.format(X_train.shape))\n",
        "print('training label shape is :{}.'.format(y_train.shape))\n",
        "print('testing data shape is :{}.'.format(X_test.shape))\n",
        "print('testing label shape is :{}.'.format(y_test.shape))"
      ],
      "execution_count": null,
      "outputs": [
        {
          "output_type": "stream",
          "text": [
            "training data shape is :(66500, 10).\n",
            "training label shape is :(66500,).\n",
            "testing data shape is :(3500, 10).\n",
            "testing label shape is :(3500,).\n"
          ],
          "name": "stdout"
        }
      ]
    },
    {
      "cell_type": "markdown",
      "metadata": {
        "id": "E74l3wWP0bm3"
      },
      "source": [
        "# MODEL CREATION\n",
        "\n",
        "we are using the sequential from keras to build an empty model and then stack upon the layers of our choice. since this is a binary classification, the best activation function is sigmoid.\n",
        "\n",
        "the input is equal to the number of columns in x"
      ]
    },
    {
      "cell_type": "code",
      "metadata": {
        "colab": {
          "base_uri": "https://localhost:8080/"
        },
        "id": "0C6dkYK2fA_m",
        "outputId": "d5afa1fd-24d2-4017-a69f-c63b8d19bb1f"
      },
      "source": [
        "\n",
        "model = Sequential() \n",
        "\n",
        "model.add(Dense(10,  activation = 'sigmoid' ,input_dim = 10)) #input layer\n",
        "model.add(Dense(64,  activation = 'sigmoid'))\n",
        "model.add(Dropout(0.15)) # to prevent overfitting\n",
        "model.add(Dense(64,  activation = 'sigmoid'))\n",
        "model.add(Dropout(0.15))\n",
        "model.add(Dense(64,  activation = 'sigmoid'))\n",
        "model.add(Dense(1,activation = 'sigmoid'))\n",
        "model.summary()\n"
      ],
      "execution_count": null,
      "outputs": [
        {
          "output_type": "stream",
          "text": [
            "Model: \"sequential_1\"\n",
            "_________________________________________________________________\n",
            "Layer (type)                 Output Shape              Param #   \n",
            "=================================================================\n",
            "dense_2 (Dense)              (None, 10)                110       \n",
            "_________________________________________________________________\n",
            "dense_3 (Dense)              (None, 64)                704       \n",
            "_________________________________________________________________\n",
            "dropout (Dropout)            (None, 64)                0         \n",
            "_________________________________________________________________\n",
            "dense_4 (Dense)              (None, 64)                4160      \n",
            "_________________________________________________________________\n",
            "dropout_1 (Dropout)          (None, 64)                0         \n",
            "_________________________________________________________________\n",
            "dense_5 (Dense)              (None, 64)                4160      \n",
            "_________________________________________________________________\n",
            "dense_6 (Dense)              (None, 1)                 65        \n",
            "=================================================================\n",
            "Total params: 9,199\n",
            "Trainable params: 9,199\n",
            "Non-trainable params: 0\n",
            "_________________________________________________________________\n"
          ],
          "name": "stdout"
        }
      ]
    },
    {
      "cell_type": "markdown",
      "metadata": {
        "id": "TS13wUp71ooB"
      },
      "source": [
        "# MODEL COMPILATION\n",
        "\n",
        "it is essential that the model has to be compiled every time before training.\n",
        "\n",
        "we use the adam optimising algorithm to find the correct value of parameters so as to keep the loss minimal.\n",
        "\n",
        "the loss is calculated using the cross entropy loss function.\n",
        "\n",
        "the metrics are used to display the model's performance"
      ]
    },
    {
      "cell_type": "code",
      "metadata": {
        "id": "bYLdWPlH1MwI"
      },
      "source": [
        "model.compile(optimizer = 'adam' , loss = 'binary_crossentropy' ,metrics = ['accuracy'])\n",
        "\n"
      ],
      "execution_count": null,
      "outputs": []
    },
    {
      "cell_type": "markdown",
      "metadata": {
        "id": "IcNoHDJM2CXp"
      },
      "source": [
        "# MODEL TRAINING"
      ]
    },
    {
      "cell_type": "code",
      "metadata": {
        "colab": {
          "base_uri": "https://localhost:8080/"
        },
        "id": "7m3EyNqj_1Dw",
        "outputId": "67e41ab2-ff78-4937-8caf-e6a2d0c1f760"
      },
      "source": [
        "num_epochs = 30\n",
        "history = model.fit(X_train ,\n",
        "                    y_train ,\n",
        "                    epochs= num_epochs ,\n",
        "                    batch_size = 20,\n",
        "                    validation_data=(X_train ,y_train))\n",
        "\n"
      ],
      "execution_count": null,
      "outputs": [
        {
          "output_type": "stream",
          "text": [
            "Epoch 1/30\n",
            "3325/3325 [==============================] - 13s 4ms/step - loss: 0.6095 - accuracy: 0.6633 - val_loss: 0.5805 - val_accuracy: 0.7005\n",
            "Epoch 2/30\n",
            "3325/3325 [==============================] - 8s 2ms/step - loss: 0.5651 - accuracy: 0.7205 - val_loss: 0.5603 - val_accuracy: 0.7234\n",
            "Epoch 3/30\n",
            "3325/3325 [==============================] - 8s 2ms/step - loss: 0.5607 - accuracy: 0.7233 - val_loss: 0.5548 - val_accuracy: 0.7287\n",
            "Epoch 4/30\n",
            "3325/3325 [==============================] - 11s 3ms/step - loss: 0.5591 - accuracy: 0.7243 - val_loss: 0.5534 - val_accuracy: 0.7280\n",
            "Epoch 5/30\n",
            "3325/3325 [==============================] - 8s 2ms/step - loss: 0.5569 - accuracy: 0.7252 - val_loss: 0.5564 - val_accuracy: 0.7247\n",
            "Epoch 6/30\n",
            "3325/3325 [==============================] - 8s 2ms/step - loss: 0.5559 - accuracy: 0.7258 - val_loss: 0.5516 - val_accuracy: 0.7284\n",
            "Epoch 7/30\n",
            "3325/3325 [==============================] - 8s 2ms/step - loss: 0.5541 - accuracy: 0.7266 - val_loss: 0.5522 - val_accuracy: 0.7291\n",
            "Epoch 8/30\n",
            "3325/3325 [==============================] - 8s 2ms/step - loss: 0.5532 - accuracy: 0.7264 - val_loss: 0.5494 - val_accuracy: 0.7283\n",
            "Epoch 9/30\n",
            "3325/3325 [==============================] - 11s 3ms/step - loss: 0.5514 - accuracy: 0.7281 - val_loss: 0.5486 - val_accuracy: 0.7277\n",
            "Epoch 10/30\n",
            "3325/3325 [==============================] - 8s 2ms/step - loss: 0.5511 - accuracy: 0.7268 - val_loss: 0.5476 - val_accuracy: 0.7288\n",
            "Epoch 11/30\n",
            "3325/3325 [==============================] - 8s 2ms/step - loss: 0.5499 - accuracy: 0.7276 - val_loss: 0.5475 - val_accuracy: 0.7293\n",
            "Epoch 12/30\n",
            "3325/3325 [==============================] - 11s 3ms/step - loss: 0.5494 - accuracy: 0.7285 - val_loss: 0.5470 - val_accuracy: 0.7302\n",
            "Epoch 13/30\n",
            "3325/3325 [==============================] - 8s 2ms/step - loss: 0.5491 - accuracy: 0.7286 - val_loss: 0.5466 - val_accuracy: 0.7293\n",
            "Epoch 14/30\n",
            "3325/3325 [==============================] - 11s 3ms/step - loss: 0.5488 - accuracy: 0.7293 - val_loss: 0.5510 - val_accuracy: 0.7273\n",
            "Epoch 15/30\n",
            "3325/3325 [==============================] - 8s 2ms/step - loss: 0.5490 - accuracy: 0.7298 - val_loss: 0.5473 - val_accuracy: 0.7307\n",
            "Epoch 16/30\n",
            "3325/3325 [==============================] - 8s 2ms/step - loss: 0.5486 - accuracy: 0.7297 - val_loss: 0.5467 - val_accuracy: 0.7304\n",
            "Epoch 17/30\n",
            "3325/3325 [==============================] - 11s 3ms/step - loss: 0.5482 - accuracy: 0.7294 - val_loss: 0.5459 - val_accuracy: 0.7312\n",
            "Epoch 18/30\n",
            "3325/3325 [==============================] - 11s 3ms/step - loss: 0.5481 - accuracy: 0.7303 - val_loss: 0.5470 - val_accuracy: 0.7314\n",
            "Epoch 19/30\n",
            "3325/3325 [==============================] - 11s 3ms/step - loss: 0.5480 - accuracy: 0.7304 - val_loss: 0.5462 - val_accuracy: 0.7309\n",
            "Epoch 20/30\n",
            "3325/3325 [==============================] - 8s 2ms/step - loss: 0.5483 - accuracy: 0.7294 - val_loss: 0.5456 - val_accuracy: 0.7310\n",
            "Epoch 21/30\n",
            "3325/3325 [==============================] - 11s 3ms/step - loss: 0.5479 - accuracy: 0.7306 - val_loss: 0.5458 - val_accuracy: 0.7319\n",
            "Epoch 22/30\n",
            "3325/3325 [==============================] - 11s 3ms/step - loss: 0.5473 - accuracy: 0.7314 - val_loss: 0.5453 - val_accuracy: 0.7323\n",
            "Epoch 23/30\n",
            "3325/3325 [==============================] - 11s 3ms/step - loss: 0.5477 - accuracy: 0.7310 - val_loss: 0.5456 - val_accuracy: 0.7319\n",
            "Epoch 24/30\n",
            "3325/3325 [==============================] - 8s 2ms/step - loss: 0.5477 - accuracy: 0.7306 - val_loss: 0.5453 - val_accuracy: 0.7310\n",
            "Epoch 25/30\n",
            "3325/3325 [==============================] - 8s 2ms/step - loss: 0.5470 - accuracy: 0.7300 - val_loss: 0.5450 - val_accuracy: 0.7321\n",
            "Epoch 26/30\n",
            "3325/3325 [==============================] - 8s 2ms/step - loss: 0.5469 - accuracy: 0.7303 - val_loss: 0.5457 - val_accuracy: 0.7317\n",
            "Epoch 27/30\n",
            "3325/3325 [==============================] - 8s 2ms/step - loss: 0.5473 - accuracy: 0.7309 - val_loss: 0.5451 - val_accuracy: 0.7324\n",
            "Epoch 28/30\n",
            "3325/3325 [==============================] - 8s 2ms/step - loss: 0.5470 - accuracy: 0.7316 - val_loss: 0.5454 - val_accuracy: 0.7317\n",
            "Epoch 29/30\n",
            "3325/3325 [==============================] - 8s 2ms/step - loss: 0.5470 - accuracy: 0.7300 - val_loss: 0.5452 - val_accuracy: 0.7319\n",
            "Epoch 30/30\n",
            "3325/3325 [==============================] - 8s 2ms/step - loss: 0.5467 - accuracy: 0.7319 - val_loss: 0.5450 - val_accuracy: 0.7319\n"
          ],
          "name": "stdout"
        }
      ]
    },
    {
      "cell_type": "markdown",
      "metadata": {
        "id": "QDWjdZff2Lmc"
      },
      "source": [
        "# MODEL EVALUATION"
      ]
    },
    {
      "cell_type": "code",
      "metadata": {
        "colab": {
          "base_uri": "https://localhost:8080/"
        },
        "id": "qxmw4svN2KvQ",
        "outputId": "89f8814e-b978-46ea-cb7b-9168d6345bd8"
      },
      "source": [
        "\n",
        "loss, acc = model.evaluate(X_test, y_test, verbose=0)\n",
        "print('Test Accuracy: {:3.3f} and loss {:3.3f}'.format(acc ,loss))"
      ],
      "execution_count": null,
      "outputs": [
        {
          "output_type": "stream",
          "text": [
            "Test Accuracy: 0.749 and loss 0.526\n"
          ],
          "name": "stdout"
        }
      ]
    },
    {
      "cell_type": "markdown",
      "metadata": {
        "id": "vCsAQEcc2Sg-"
      },
      "source": [
        "# MODEL PLOTS"
      ]
    },
    {
      "cell_type": "code",
      "metadata": {
        "colab": {
          "base_uri": "https://localhost:8080/",
          "height": 541
        },
        "id": "OtpNRw4o2UrL",
        "outputId": "96f6804b-c1a7-448a-8caa-cc78b7dd4e02"
      },
      "source": [
        "def plot_graphs(history, string):\n",
        "    plt.plot(history.history[string])\n",
        "    plt.plot(history.history['val_'+string])\n",
        "    plt.xlabel(\"Epochs\")\n",
        "    plt.ylabel(string)\n",
        "    plt.legend([string, 'val_'+string])\n",
        "    plt.show()\n",
        "    \n",
        "plot_graphs(history, \"accuracy\")\n",
        "plot_graphs(history, \"loss\")"
      ],
      "execution_count": null,
      "outputs": [
        {
          "output_type": "display_data",
          "data": {
            "image/png": "[encoded data removed]",
            "text/plain": [
              "<Figure size 432x288 with 1 Axes>"
            ]
          },
          "metadata": {
            "tags": [],
            "needs_background": "light"
          }
        },
        {
          "output_type": "display_data",
          "data": {
            "image/png": "[encoded data removed]",
            "text/plain": [
              "<Figure size 432x288 with 1 Axes>"
            ]
          },
          "metadata": {
            "tags": [],
            "needs_background": "light"
          }
        }
      ]
    },
    {
      "cell_type": "markdown",
      "metadata": {
        "id": "w09KU2fBFB-h"
      },
      "source": [
        "using dropout we have avoided overfitting. the curves go well with each other"
      ]
    },
    {
      "cell_type": "markdown",
      "metadata": {
        "id": "q4deEAVt2WY0"
      },
      "source": [
        "# MODEL PREDICTION"
      ]
    },
    {
      "cell_type": "markdown",
      "metadata": {
        "id": "m6EshARe2imO"
      },
      "source": [
        "we are finding the number of correct and wrong predictions made by the model with the testing data. the following code can be used to get the result in batches.\n",
        "\n",
        "we are comparing the model prediction with the true output automatically. however we will provide some data for the user to test in the website "
      ]
    },
    {
      "cell_type": "code",
      "metadata": {
        "colab": {
          "base_uri": "https://localhost:8080/"
        },
        "id": "cSO2vHAL-nGI",
        "outputId": "9914bf2d-e56b-4cdd-91c3-79e6562c0f44"
      },
      "source": [
        "y_pred = model.predict(X_test)\n",
        "y_pred = (y_pred > 0.5) *1\n",
        "y_pred\n",
        "right = 0\n",
        "wrong = 0\n",
        "prediction = y_pred.tolist()\n",
        "prediction_sample = prediction[:12]\n",
        "y_true = [[i] for i in y_test]\n",
        "true_sample = y_true[:12]\n",
        "print(f'\\n accuracy : {acc}\\n')\n",
        "print(f' Actual values   : {true_sample}')\n",
        "print(f'predicted values : {prediction_sample}\\n')\n",
        "\n",
        "for i in range(12):\n",
        "\n",
        "    if true_sample[i] == prediction_sample[i]:\n",
        "        right = right +1\n",
        "    else :\n",
        "        wrong= wrong + 1\n",
        "        \n",
        "print(f'{right} of {12} True Prediction')\n",
        "print(f'{wrong} of {12} False Prediction')\n"
      ],
      "execution_count": null,
      "outputs": [
        {
          "output_type": "stream",
          "text": [
            "\n",
            " accuracy : 0.7485714554786682\n",
            "\n",
            " Actual values   : [[1], [1], [1], [0], [0], [1], [1], [0], [0], [1], [0], [0]]\n",
            "predicted values : [[1], [0], [0], [0], [0], [0], [1], [0], [1], [1], [0], [0]]\n",
            "\n",
            "8 of 12 True Prediction\n",
            "4 of 12 False Prediction\n"
          ],
          "name": "stdout"
        }
      ]
    },
    {
      "cell_type": "markdown",
      "metadata": {
        "id": "8wDbmn9h2zTs"
      },
      "source": [
        "we are saving the best model which is going to the loaded onto the website"
      ]
    },
    {
      "cell_type": "code",
      "metadata": {
        "id": "J7NH5nvNfJco"
      },
      "source": [
        "tf.keras.models.save_model(model,'mymodel.hdf5')"
      ],
      "execution_count": null,
      "outputs": []
    },
    {
      "cell_type": "markdown",
      "metadata": {
        "id": "IslkWhN125ic"
      },
      "source": [
        "# WEB APPLICATION\n",
        "\n",
        "it consists of two parts namely the frontend and backend. the frontend is used to design the webpage and the backend is used to connect it to the server.\n",
        "\n",
        "we are using streamlit for frontend and pyngrok for backend\n"
      ]
    },
    {
      "cell_type": "code",
      "metadata": {
        "colab": {
          "base_uri": "https://localhost:8080/",
          "height": 1000
        },
        "id": "iu3NHyn7koC1",
        "outputId": "d401c0fa-a919-426a-d84d-5e3754b98fe5"
      },
      "source": [
        "!pip install streamlit"
      ],
      "execution_count": null,
      "outputs": [
        {
          "output_type": "stream",
          "text": [
            "Collecting streamlit\n",
            "  Downloading streamlit-0.85.1-py2.py3-none-any.whl (7.9 MB)\n",
            "\u001b[K     |████████████████████████████████| 7.9 MB 9.3 MB/s \n",
            "\u001b[?25hCollecting pydeck>=0.1.dev5\n",
            "  Downloading pydeck-0.6.2-py2.py3-none-any.whl (4.2 MB)\n",
            "\u001b[K     |████████████████████████████████| 4.2 MB 51.6 MB/s \n",
            "\u001b[?25hCollecting blinker\n",
            "  Downloading blinker-1.4.tar.gz (111 kB)\n",
            "\u001b[K     |████████████████████████████████| 111 kB 65.5 MB/s \n",
            "\u001b[?25hCollecting base58\n",
            "  Downloading base58-2.1.0-py3-none-any.whl (5.6 kB)\n",
            "Requirement already satisfied: requests in /usr/local/lib/python3.7/dist-packages (from streamlit) (2.23.0)\n",
            "Requirement already satisfied: tornado>=5.0 in /usr/local/lib/python3.7/dist-packages (from streamlit) (5.1.1)\n",
            "Requirement already satisfied: python-dateutil in /usr/local/lib/python3.7/dist-packages (from streamlit) (2.8.1)\n",
            "Requirement already satisfied: numpy in /usr/local/lib/python3.7/dist-packages (from streamlit) (1.19.5)\n",
            "Collecting watchdog\n",
            "  Downloading watchdog-2.1.3-py3-none-manylinux2014_x86_64.whl (75 kB)\n",
            "\u001b[K     |████████████████████████████████| 75 kB 3.1 MB/s \n",
            "\u001b[?25hRequirement already satisfied: altair>=3.2.0 in /usr/local/lib/python3.7/dist-packages (from streamlit) (4.1.0)\n",
            "Collecting gitpython\n",
            "  Downloading GitPython-3.1.18-py3-none-any.whl (170 kB)\n",
            "\u001b[K     |████████████████████████████████| 170 kB 59.0 MB/s \n",
            "\u001b[?25hRequirement already satisfied: pandas>=0.21.0 in /usr/local/lib/python3.7/dist-packages (from streamlit) (1.1.5)\n",
            "Requirement already satisfied: pillow>=6.2.0 in /usr/local/lib/python3.7/dist-packages (from streamlit) (7.1.2)\n",
            "Requirement already satisfied: protobuf!=3.11,>=3.6.0 in /usr/local/lib/python3.7/dist-packages (from streamlit) (3.17.3)\n",
            "Requirement already satisfied: tzlocal in /usr/local/lib/python3.7/dist-packages (from streamlit) (1.5.1)\n",
            "Requirement already satisfied: toml in /usr/local/lib/python3.7/dist-packages (from streamlit) (0.10.2)\n",
            "Requirement already satisfied: cachetools>=4.0 in /usr/local/lib/python3.7/dist-packages (from streamlit) (4.2.2)\n",
            "Collecting validators\n",
            "  Downloading validators-0.18.2-py3-none-any.whl (19 kB)\n",
            "Requirement already satisfied: click<8.0,>=7.0 in /usr/local/lib/python3.7/dist-packages (from streamlit) (7.1.2)\n",
            "Requirement already satisfied: packaging in /usr/local/lib/python3.7/dist-packages (from streamlit) (21.0)\n",
            "Requirement already satisfied: astor in /usr/local/lib/python3.7/dist-packages (from streamlit) (0.8.1)\n",
            "Requirement already satisfied: pyarrow in /usr/local/lib/python3.7/dist-packages (from streamlit) (3.0.0)\n",
            "Requirement already satisfied: attrs in /usr/local/lib/python3.7/dist-packages (from streamlit) (21.2.0)\n",
            "Requirement already satisfied: entrypoints in /usr/local/lib/python3.7/dist-packages (from altair>=3.2.0->streamlit) (0.3)\n",
            "Requirement already satisfied: jinja2 in /usr/local/lib/python3.7/dist-packages (from altair>=3.2.0->streamlit) (2.11.3)\n",
            "Requirement already satisfied: toolz in /usr/local/lib/python3.7/dist-packages (from altair>=3.2.0->streamlit) (0.11.1)\n",
            "Requirement already satisfied: jsonschema in /usr/local/lib/python3.7/dist-packages (from altair>=3.2.0->streamlit) (2.6.0)\n",
            "Requirement already satisfied: pytz>=2017.2 in /usr/local/lib/python3.7/dist-packages (from pandas>=0.21.0->streamlit) (2018.9)\n",
            "Requirement already satisfied: six>=1.9 in /usr/local/lib/python3.7/dist-packages (from protobuf!=3.11,>=3.6.0->streamlit) (1.15.0)\n",
            "Collecting ipykernel>=5.1.2\n",
            "  Downloading ipykernel-6.0.3-py3-none-any.whl (122 kB)\n",
            "\u001b[K     |████████████████████████████████| 122 kB 70.3 MB/s \n",
            "\u001b[?25hRequirement already satisfied: ipywidgets>=7.0.0 in /usr/local/lib/python3.7/dist-packages (from pydeck>=0.1.dev5->streamlit) (7.6.3)\n",
            "Requirement already satisfied: traitlets>=4.3.2 in /usr/local/lib/python3.7/dist-packages (from pydeck>=0.1.dev5->streamlit) (5.0.5)\n",
            "Collecting importlib-metadata<4\n",
            "  Downloading importlib_metadata-3.10.1-py3-none-any.whl (14 kB)\n",
            "Requirement already satisfied: jupyter-client<7.0 in /usr/local/lib/python3.7/dist-packages (from ipykernel>=5.1.2->pydeck>=0.1.dev5->streamlit) (5.3.5)\n",
            "Collecting ipython<8.0,>=7.23.1\n",
            "  Downloading ipython-7.25.0-py3-none-any.whl (786 kB)\n",
            "\u001b[K     |████████████████████████████████| 786 kB 41.6 MB/s \n",
            "\u001b[?25hRequirement already satisfied: matplotlib-inline<0.2.0,>=0.1.0 in /usr/local/lib/python3.7/dist-packages (from ipykernel>=5.1.2->pydeck>=0.1.dev5->streamlit) (0.1.2)\n",
            "Requirement already satisfied: debugpy<2.0,>=1.0.0 in /usr/local/lib/python3.7/dist-packages (from ipykernel>=5.1.2->pydeck>=0.1.dev5->streamlit) (1.0.0)\n",
            "Requirement already satisfied: zipp>=0.5 in /usr/local/lib/python3.7/dist-packages (from importlib-metadata<4->ipykernel>=5.1.2->pydeck>=0.1.dev5->streamlit) (3.5.0)\n",
            "Requirement already satisfied: typing-extensions>=3.6.4 in /usr/local/lib/python3.7/dist-packages (from importlib-metadata<4->ipykernel>=5.1.2->pydeck>=0.1.dev5->streamlit) (3.7.4.3)\n",
            "Requirement already satisfied: pickleshare in /usr/local/lib/python3.7/dist-packages (from ipython<8.0,>=7.23.1->ipykernel>=5.1.2->pydeck>=0.1.dev5->streamlit) (0.7.5)\n",
            "Requirement already satisfied: setuptools>=18.5 in /usr/local/lib/python3.7/dist-packages (from ipython<8.0,>=7.23.1->ipykernel>=5.1.2->pydeck>=0.1.dev5->streamlit) (57.2.0)\n",
            "Requirement already satisfied: backcall in /usr/local/lib/python3.7/dist-packages (from ipython<8.0,>=7.23.1->ipykernel>=5.1.2->pydeck>=0.1.dev5->streamlit) (0.2.0)\n",
            "Requirement already satisfied: jedi>=0.16 in /usr/local/lib/python3.7/dist-packages (from ipython<8.0,>=7.23.1->ipykernel>=5.1.2->pydeck>=0.1.dev5->streamlit) (0.18.0)\n",
            "Requirement already satisfied: pygments in /usr/local/lib/python3.7/dist-packages (from ipython<8.0,>=7.23.1->ipykernel>=5.1.2->pydeck>=0.1.dev5->streamlit) (2.6.1)\n",
            "Collecting prompt-toolkit!=3.0.0,!=3.0.1,<3.1.0,>=2.0.0\n",
            "  Downloading prompt_toolkit-3.0.19-py3-none-any.whl (368 kB)\n",
            "\u001b[K     |████████████████████████████████| 368 kB 50.5 MB/s \n",
            "\u001b[?25hRequirement already satisfied: pexpect>4.3 in /usr/local/lib/python3.7/dist-packages (from ipython<8.0,>=7.23.1->ipykernel>=5.1.2->pydeck>=0.1.dev5->streamlit) (4.8.0)\n",
            "Requirement already satisfied: decorator in /usr/local/lib/python3.7/dist-packages (from ipython<8.0,>=7.23.1->ipykernel>=5.1.2->pydeck>=0.1.dev5->streamlit) (4.4.2)\n",
            "Requirement already satisfied: jupyterlab-widgets>=1.0.0 in /usr/local/lib/python3.7/dist-packages (from ipywidgets>=7.0.0->pydeck>=0.1.dev5->streamlit) (1.0.0)\n",
            "Requirement already satisfied: nbformat>=4.2.0 in /usr/local/lib/python3.7/dist-packages (from ipywidgets>=7.0.0->pydeck>=0.1.dev5->streamlit) (5.1.3)\n",
            "Requirement already satisfied: widgetsnbextension~=3.5.0 in /usr/local/lib/python3.7/dist-packages (from ipywidgets>=7.0.0->pydeck>=0.1.dev5->streamlit) (3.5.1)\n",
            "Requirement already satisfied: parso<0.9.0,>=0.8.0 in /usr/local/lib/python3.7/dist-packages (from jedi>=0.16->ipython<8.0,>=7.23.1->ipykernel>=5.1.2->pydeck>=0.1.dev5->streamlit) (0.8.2)\n",
            "Requirement already satisfied: MarkupSafe>=0.23 in /usr/local/lib/python3.7/dist-packages (from jinja2->altair>=3.2.0->streamlit) (2.0.1)\n",
            "Requirement already satisfied: pyzmq>=13 in /usr/local/lib/python3.7/dist-packages (from jupyter-client<7.0->ipykernel>=5.1.2->pydeck>=0.1.dev5->streamlit) (22.1.0)\n",
            "Requirement already satisfied: jupyter-core>=4.6.0 in /usr/local/lib/python3.7/dist-packages (from jupyter-client<7.0->ipykernel>=5.1.2->pydeck>=0.1.dev5->streamlit) (4.7.1)\n",
            "Requirement already satisfied: ipython-genutils in /usr/local/lib/python3.7/dist-packages (from nbformat>=4.2.0->ipywidgets>=7.0.0->pydeck>=0.1.dev5->streamlit) (0.2.0)\n",
            "Requirement already satisfied: ptyprocess>=0.5 in /usr/local/lib/python3.7/dist-packages (from pexpect>4.3->ipython<8.0,>=7.23.1->ipykernel>=5.1.2->pydeck>=0.1.dev5->streamlit) (0.7.0)\n",
            "Requirement already satisfied: wcwidth in /usr/local/lib/python3.7/dist-packages (from prompt-toolkit!=3.0.0,!=3.0.1,<3.1.0,>=2.0.0->ipython<8.0,>=7.23.1->ipykernel>=5.1.2->pydeck>=0.1.dev5->streamlit) (0.2.5)\n",
            "Requirement already satisfied: notebook>=4.4.1 in /usr/local/lib/python3.7/dist-packages (from widgetsnbextension~=3.5.0->ipywidgets>=7.0.0->pydeck>=0.1.dev5->streamlit) (5.3.1)\n",
            "Requirement already satisfied: Send2Trash in /usr/local/lib/python3.7/dist-packages (from notebook>=4.4.1->widgetsnbextension~=3.5.0->ipywidgets>=7.0.0->pydeck>=0.1.dev5->streamlit) (1.7.1)\n",
            "Requirement already satisfied: terminado>=0.8.1 in /usr/local/lib/python3.7/dist-packages (from notebook>=4.4.1->widgetsnbextension~=3.5.0->ipywidgets>=7.0.0->pydeck>=0.1.dev5->streamlit) (0.10.1)\n",
            "Requirement already satisfied: nbconvert in /usr/local/lib/python3.7/dist-packages (from notebook>=4.4.1->widgetsnbextension~=3.5.0->ipywidgets>=7.0.0->pydeck>=0.1.dev5->streamlit) (5.6.1)\n",
            "Collecting gitdb<5,>=4.0.1\n",
            "  Downloading gitdb-4.0.7-py3-none-any.whl (63 kB)\n",
            "\u001b[K     |████████████████████████████████| 63 kB 1.5 MB/s \n",
            "\u001b[?25hCollecting smmap<5,>=3.0.1\n",
            "  Downloading smmap-4.0.0-py2.py3-none-any.whl (24 kB)\n",
            "Requirement already satisfied: testpath in /usr/local/lib/python3.7/dist-packages (from nbconvert->notebook>=4.4.1->widgetsnbextension~=3.5.0->ipywidgets>=7.0.0->pydeck>=0.1.dev5->streamlit) (0.5.0)\n",
            "Requirement already satisfied: bleach in /usr/local/lib/python3.7/dist-packages (from nbconvert->notebook>=4.4.1->widgetsnbextension~=3.5.0->ipywidgets>=7.0.0->pydeck>=0.1.dev5->streamlit) (3.3.0)\n",
            "Requirement already satisfied: pandocfilters>=1.4.1 in /usr/local/lib/python3.7/dist-packages (from nbconvert->notebook>=4.4.1->widgetsnbextension~=3.5.0->ipywidgets>=7.0.0->pydeck>=0.1.dev5->streamlit) (1.4.3)\n",
            "Requirement already satisfied: defusedxml in /usr/local/lib/python3.7/dist-packages (from nbconvert->notebook>=4.4.1->widgetsnbextension~=3.5.0->ipywidgets>=7.0.0->pydeck>=0.1.dev5->streamlit) (0.7.1)\n",
            "Requirement already satisfied: mistune<2,>=0.8.1 in /usr/local/lib/python3.7/dist-packages (from nbconvert->notebook>=4.4.1->widgetsnbextension~=3.5.0->ipywidgets>=7.0.0->pydeck>=0.1.dev5->streamlit) (0.8.4)\n",
            "Requirement already satisfied: webencodings in /usr/local/lib/python3.7/dist-packages (from bleach->nbconvert->notebook>=4.4.1->widgetsnbextension~=3.5.0->ipywidgets>=7.0.0->pydeck>=0.1.dev5->streamlit) (0.5.1)\n",
            "Requirement already satisfied: pyparsing>=2.0.2 in /usr/local/lib/python3.7/dist-packages (from packaging->streamlit) (2.4.7)\n",
            "Requirement already satisfied: chardet<4,>=3.0.2 in /usr/local/lib/python3.7/dist-packages (from requests->streamlit) (3.0.4)\n",
            "Requirement already satisfied: urllib3!=1.25.0,!=1.25.1,<1.26,>=1.21.1 in /usr/local/lib/python3.7/dist-packages (from requests->streamlit) (1.24.3)\n",
            "Requirement already satisfied: certifi>=2017.4.17 in /usr/local/lib/python3.7/dist-packages (from requests->streamlit) (2021.5.30)\n",
            "Requirement already satisfied: idna<3,>=2.5 in /usr/local/lib/python3.7/dist-packages (from requests->streamlit) (2.10)\n",
            "Building wheels for collected packages: blinker\n",
            "  Building wheel for blinker (setup.py) ... \u001b[?25l\u001b[?25hdone\n",
            "  Created wheel for blinker: filename=blinker-1.4-py3-none-any.whl size=13479 sha256=679536ac5b17795cf83aa491d97a56242e67b42b51c4c7a9f19d7f1c06778cce\n",
            "  Stored in directory: /root/.cache/pip/wheels/22/f5/18/df711b66eb25b21325c132757d4314db9ac5e8dabeaf196eab\n",
            "Successfully built blinker\n",
            "Installing collected packages: prompt-toolkit, ipython, importlib-metadata, ipykernel, smmap, gitdb, watchdog, validators, pydeck, gitpython, blinker, base58, streamlit\n",
            "  Attempting uninstall: prompt-toolkit\n",
            "    Found existing installation: prompt-toolkit 1.0.18\n",
            "    Uninstalling prompt-toolkit-1.0.18:\n",
            "      Successfully uninstalled prompt-toolkit-1.0.18\n",
            "  Attempting uninstall: ipython\n",
            "    Found existing installation: ipython 5.5.0\n",
            "    Uninstalling ipython-5.5.0:\n",
            "      Successfully uninstalled ipython-5.5.0\n",
            "  Attempting uninstall: importlib-metadata\n",
            "    Found existing installation: importlib-metadata 4.6.1\n",
            "    Uninstalling importlib-metadata-4.6.1:\n",
            "      Successfully uninstalled importlib-metadata-4.6.1\n",
            "  Attempting uninstall: ipykernel\n",
            "    Found existing installation: ipykernel 4.10.1\n",
            "    Uninstalling ipykernel-4.10.1:\n",
            "      Successfully uninstalled ipykernel-4.10.1\n",
            "\u001b[31mERROR: pip's dependency resolver does not currently take into account all the packages that are installed. This behaviour is the source of the following dependency conflicts.\n",
            "jupyter-console 5.2.0 requires prompt-toolkit<2.0.0,>=1.0.0, but you have prompt-toolkit 3.0.19 which is incompatible.\n",
            "google-colab 1.0.0 requires ipykernel~=4.10, but you have ipykernel 6.0.3 which is incompatible.\n",
            "google-colab 1.0.0 requires ipython~=5.5.0, but you have ipython 7.25.0 which is incompatible.\u001b[0m\n",
            "Successfully installed base58-2.1.0 blinker-1.4 gitdb-4.0.7 gitpython-3.1.18 importlib-metadata-3.10.1 ipykernel-6.0.3 ipython-7.25.0 prompt-toolkit-3.0.19 pydeck-0.6.2 smmap-4.0.0 streamlit-0.85.1 validators-0.18.2 watchdog-2.1.3\n"
          ],
          "name": "stdout"
        },
        {
          "output_type": "display_data",
          "data": {
            "application/vnd.colab-display-data+json": {
              "pip_warning": {
                "packages": [
                  "IPython",
                  "ipykernel",
                  "prompt_toolkit"
                ]
              }
            }
          },
          "metadata": {
            "tags": []
          }
        }
      ]
    },
    {
      "cell_type": "markdown",
      "metadata": {
        "id": "36AVO8oJ4tjI"
      },
      "source": [
        "we are writing the contents present inside the application using %%writefile along with the name of the app. the following steps are followed\n",
        "\n",
        "1. importing libraries (streamlit, numpy and tensorflow)\n",
        "\n",
        "2. loading the saved model\n",
        "\n",
        "3. title design for website\n",
        "\n",
        "4. adding the dropdown button with features inside it\n",
        "\n",
        "5. using sliders to get the input from the user\n",
        "\n",
        "6. defining the class names\n",
        "\n",
        "7. model prediction\n",
        "\n",
        "8. output visualisation\n",
        "\n",
        "the step numbers will be given as the command in the below code\n",
        "\n",
        "it is recommended to read the streamlit documentation for better understanding\n",
        "\n",
        "https://docs.streamlit.io/en/stable/"
      ]
    },
    {
      "cell_type": "code",
      "metadata": {
        "colab": {
          "base_uri": "https://localhost:8080/"
        },
        "id": "qu3pVivmfvMC",
        "outputId": "38b9f80b-7459-4ad8-9988-3ea1fc12f46c"
      },
      "source": [
        "%%writefile app.py\n",
        "import streamlit as st #1\n",
        "import tensorflow as tf #1\n",
        "import numpy as np     #1\n",
        "\n",
        "@st.cache(allow_output_mutation=True)\n",
        "def load_model(): #2\n",
        "  model=tf.keras.models.load_model('/content/mymodel.hdf5')\n",
        "  return model\n",
        "with st.spinner('Model is being loaded..please wait'): #this message will pop up with a spinning symbol (to gather some time for model to load)\n",
        "  model=load_model()\n",
        "def main(): #the codes below result in the creation of the main webpage\n",
        "    st.title(\"CARDIOVASCULAR RISK PREDICTION-STAGE 1\") #3\n",
        "    st.write(\"done by V A SAIRAM\")\n",
        "    st.write(\"this is the detection of cardiovascular disease. in this stage about 10 credentials will be asked and the risk for having the disease will be predicted based on them\") #story\n",
        "    st.write(\"DISCLAIMER:- this is a preliminary test and the results may not be accurate or desired. it is better to validate with the doctor\") #story\n",
        "    html_temp = \"\"\" \n",
        "    <div style=\"background-color:teal ;padding:10px\">\n",
        "    <h2 style=\"color:white;text-align:center;\">CARDIOVASCULAR RISK PREDICTION</h2>\n",
        "    </div>\n",
        "    \"\"\" #this part produces some coloured effects which can be achieved using HTML codes\n",
        "    st.markdown(html_temp, unsafe_allow_html=True) #4\n",
        "    activities=['Deep learning- Artificial Neural Network']\n",
        "    option=st.sidebar.selectbox('choose the options displayed below',activities) #this is seen as dropdown button in the side of the webpage\n",
        "    st.subheader(option) #5\n",
        "    s1=st.slider('Select age', 0, 100) \n",
        "    s2=st.slider('Select the gender; 1=>female and 2=>male', 1, 2)\n",
        "    s3=st.slider('Select the BMI', 18.0, 36.0)\n",
        "    s4=st.slider('Select the systolic blood pressure value(the reading in the top of bp machine) ', 90, 250)\n",
        "    s5=st.slider('Select the diastolic blood pressure value(the reading in the bottom of bp machine) ', 60, 150)\n",
        "    s6=st.slider('Select the status of smoking history 1 if YES 0 if NO', 0, 1)\n",
        "    s7=st.slider('Select the status of alcohol history 1 if YES 0 if NO', 0, 1)\n",
        "    s8=st.slider('Select the status of activity 1: active lifestyle     0: sedantry lifestyle', 0, 1)\n",
        "    s9=st.slider('Select the level of blood cholesterol 1:<170    2:170-199     3:>200', 1, 3)\n",
        "    s10=st.slider('Select the level of blood glucose 1:<140     2:140-199    3:>200', 1, 3)\n",
        "    inputs=[[s1,s2,s3,s4,s5,s6,s7,s8,s9,s10]]\n",
        "    class_names=['the submitted profile is normal and free from cardiovascular risk. Maintain these levels to prevent cardiovascular disease.', #6\n",
        "                 'the submitted profile is susceptible to cardiovascular risks. It is recommended to lower the blood glucose and cholesterol levels and to consult the doctor for further medications ']\n",
        "    predictions=model.predict(inputs) #7\n",
        "    if st.button('Classify'):\n",
        "      st.success(class_names[np.argmax(predictions)]) #8\n",
        "      st.success('EAT NUTRITIVE,EXERCISE AND LEAD AN HEALTHY LIFESTYLE!!!')\n",
        "    st.success(\"THANK YOU FOR USING THE APPLICATION. WE HOPE FOR A HEALTHY LIFE\")\n",
        "        \n",
        "if __name__=='__main__': #condition for all the above codes to work\n",
        "    main()        "
      ],
      "execution_count": null,
      "outputs": [
        {
          "output_type": "stream",
          "text": [
            "Writing app.py\n"
          ],
          "name": "stdout"
        }
      ]
    },
    {
      "cell_type": "markdown",
      "metadata": {
        "id": "ilrl5Cbs5xVK"
      },
      "source": [
        "the following codes are done to establish an tunnel(connection) to the website portal\n",
        "\n",
        "this is actually an alternative way to establish the connection. the usual method is to get an authorisation token from pygrok and use it. however it doesnt work mostly and also shows some issues."
      ]
    },
    {
      "cell_type": "code",
      "metadata": {
        "colab": {
          "base_uri": "https://localhost:8080/"
        },
        "id": "QDjk3UZCyXwV",
        "outputId": "2562bb9d-e543-4a63-b8ec-47ccffb47693"
      },
      "source": [
        "!wget https://bin.equinox.io/c/4VmDzA7iaHb/ngrok-stable-linux-amd64.zip"
      ],
      "execution_count": null,
      "outputs": [
        {
          "output_type": "stream",
          "text": [
            "--2021-07-28 12:31:29--  https://bin.equinox.io/c/4VmDzA7iaHb/ngrok-stable-linux-amd64.zip\n",
            "Resolving bin.equinox.io (bin.equinox.io)... 3.215.21.243, 54.243.169.86, 52.202.35.83, ...\n",
            "Connecting to bin.equinox.io (bin.equinox.io)|3.215.21.243|:443... connected.\n",
            "HTTP request sent, awaiting response... 200 OK\n",
            "Length: 13832437 (13M) [application/octet-stream]\n",
            "Saving to: ‘ngrok-stable-linux-amd64.zip’\n",
            "\n",
            "ngrok-stable-linux- 100%[===================>]  13.19M  16.3MB/s    in 0.8s    \n",
            "\n",
            "2021-07-28 12:31:30 (16.3 MB/s) - ‘ngrok-stable-linux-amd64.zip’ saved [13832437/13832437]\n",
            "\n"
          ],
          "name": "stdout"
        }
      ]
    },
    {
      "cell_type": "markdown",
      "metadata": {
        "id": "qUKw0h3R6KQL"
      },
      "source": [
        "we unzip the ngrok linux file we installed previously"
      ]
    },
    {
      "cell_type": "code",
      "metadata": {
        "colab": {
          "base_uri": "https://localhost:8080/"
        },
        "id": "GhSScHGezmwR",
        "outputId": "ce164036-0917-4c72-81c3-55e2fccd1ec2"
      },
      "source": [
        "!unzip ngrok-stable-linux-amd64.zip"
      ],
      "execution_count": null,
      "outputs": [
        {
          "output_type": "stream",
          "text": [
            "Archive:  ngrok-stable-linux-amd64.zip\n",
            "  inflating: ngrok                   \n"
          ],
          "name": "stdout"
        }
      ]
    },
    {
      "cell_type": "code",
      "metadata": {
        "id": "aM07NaqMzoji"
      },
      "source": [
        "get_ipython().system_raw('./ngrok http 8501 &')"
      ],
      "execution_count": null,
      "outputs": []
    },
    {
      "cell_type": "code",
      "metadata": {
        "colab": {
          "base_uri": "https://localhost:8080/"
        },
        "id": "jZg7lnLZzsFZ",
        "outputId": "4eb8750e-dbb6-4d98-c146-ffe1b7fa7939"
      },
      "source": [
        "!curl -s http://localhost:4040/api/tunnels | python3 -c \\\n",
        "    'import sys, json; print(\"Execute the next cell and then click on to the following URL to see the woking website: \" +json.load(sys.stdin)[\"tunnels\"][0][\"public_url\"])'\n",
        "    "
      ],
      "execution_count": null,
      "outputs": [
        {
          "output_type": "stream",
          "text": [
            "Execute the next cell and then click on to the following URL to see the woking website: https://c2258f165725.ngrok.io\n"
          ],
          "name": "stdout"
        }
      ]
    },
    {
      "cell_type": "markdown",
      "metadata": {
        "id": "1Lz9ac0o6dLa"
      },
      "source": [
        "IMPORTANT INFORMATION:- the website application will work only when the below code is running. hence keep this code running.\n",
        "\n",
        "if you experience any error like unable to establish tunnel or too many connections then do the following\n",
        "\n",
        "1. delete the installed zip file\n",
        "2. rerun the code from !wget, !unzip, get_ipython(), !curl \n",
        "3. run the !stremalit code and it will work this time"
      ]
    },
    {
      "cell_type": "code",
      "metadata": {
        "colab": {
          "base_uri": "https://localhost:8080/"
        },
        "id": "8cSsN2S0kQpb",
        "outputId": "4fc013fe-46cc-4f1d-a714-f857081e0342"
      },
      "source": [
        "!streamlit run /content/app.py"
      ],
      "execution_count": null,
      "outputs": [
        {
          "output_type": "stream",
          "text": [
            "2021-07-28 12:31:51.554169: I tensorflow/stream_executor/platform/default/dso_loader.cc:53] Successfully opened dynamic library libcudart.so.11.0\n",
            "\u001b[0m\n",
            "\u001b[34m\u001b[1m  You can now view your Streamlit app in your browser.\u001b[0m\n",
            "\u001b[0m\n",
            "\u001b[34m  Network URL: \u001b[0m\u001b[1mhttp://172.28.0.2:8501\u001b[0m\n",
            "\u001b[34m  External URL: \u001b[0m\u001b[1mhttp://34.83.10.46:8501\u001b[0m\n",
            "\u001b[0m\n",
            "2021-07-28 12:31:53.428831: I tensorflow/stream_executor/platform/default/dso_loader.cc:53] Successfully opened dynamic library libcuda.so.1\n",
            "2021-07-28 12:31:53.442091: E tensorflow/stream_executor/cuda/cuda_driver.cc:328] failed call to cuInit: CUDA_ERROR_NO_DEVICE: no CUDA-capable device is detected\n",
            "2021-07-28 12:31:53.442162: I tensorflow/stream_executor/cuda/cuda_diagnostics.cc:156] kernel driver does not appear to be running on this host (0ad512472d8a): /proc/driver/nvidia/version does not exist\n",
            "2021-07-28 12:31:53.650116: I tensorflow/compiler/mlir/mlir_graph_optimization_pass.cc:176] None of the MLIR Optimization Passes are enabled (registered 2)\n",
            "2021-07-28 12:31:53.650723: I tensorflow/core/platform/profile_utils/cpu_utils.cc:114] CPU Frequency: 2199995000 Hz\n",
            "\u001b[34m  Stopping...\u001b[0m\n",
            "\u001b[34m  Stopping...\u001b[0m\n",
            "^C\n"
          ],
          "name": "stdout"
        }
      ]
    },
    {
      "cell_type": "markdown",
      "metadata": {
        "id": "OMF854tX7NSI"
      },
      "source": [
        "![op3.PNG](data:image/png;base64,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)\n",
        "\n",
        "\n",
        "\n",
        "once you have finished your work you can stop this code. i hope this helps!!!\n",
        "\n",
        "please ask if there are any issues"
      ]
    }
  ]
}